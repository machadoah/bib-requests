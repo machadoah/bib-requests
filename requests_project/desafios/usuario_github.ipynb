{
 "cells": [
  {
   "cell_type": "markdown",
   "metadata": {},
   "source": [
    "# Bora Praticar?"
   ]
  },
  {
   "cell_type": "code",
   "execution_count": 1,
   "metadata": {},
   "outputs": [],
   "source": [
    "import requests"
   ]
  },
  {
   "cell_type": "markdown",
   "metadata": {},
   "source": [
    "Faça uma requisição GET à API do Github para obter as informações do perfil de um usuário específico. \n",
    "\n",
    "Para isso, utilize a biblioteca Requests do Python e a URL `https://api.github.com/users/{username}`, substituindo `{username}` pelo nome de usuário desejado."
   ]
  },
  {
   "cell_type": "code",
   "execution_count": 4,
   "metadata": {},
   "outputs": [],
   "source": [
    "request = requests.get('https://api.github.com/users/machadoah')"
   ]
  },
  {
   "cell_type": "markdown",
   "metadata": {},
   "source": [
    "Com o objeto response retornado pela requisição, imprima na tela as seguintes informações sobre a requisição:\n",
    "\n",
    "**A) status code da requisição, para analisar se foi bem sucedida ou não;**"
   ]
  },
  {
   "cell_type": "code",
   "execution_count": 5,
   "metadata": {},
   "outputs": [
    {
     "data": {
      "text/plain": [
       "200"
      ]
     },
     "execution_count": 5,
     "metadata": {},
     "output_type": "execute_result"
    }
   ],
   "source": [
    "request.status_code"
   ]
  },
  {
   "cell_type": "markdown",
   "metadata": {},
   "source": [
    "**B) conteúdo da requisição, para conferir se os dados de usuário vieram corretamente;**"
   ]
  },
  {
   "cell_type": "code",
   "execution_count": 6,
   "metadata": {},
   "outputs": [
    {
     "data": {
      "text/plain": [
       "{'login': 'machadoah',\n",
       " 'id': 96703665,\n",
       " 'node_id': 'U_kgDOBcOUsQ',\n",
       " 'avatar_url': 'https://avatars.githubusercontent.com/u/96703665?v=4',\n",
       " 'gravatar_id': '',\n",
       " 'url': 'https://api.github.com/users/machadoah',\n",
       " 'html_url': 'https://github.com/machadoah',\n",
       " 'followers_url': 'https://api.github.com/users/machadoah/followers',\n",
       " 'following_url': 'https://api.github.com/users/machadoah/following{/other_user}',\n",
       " 'gists_url': 'https://api.github.com/users/machadoah/gists{/gist_id}',\n",
       " 'starred_url': 'https://api.github.com/users/machadoah/starred{/owner}{/repo}',\n",
       " 'subscriptions_url': 'https://api.github.com/users/machadoah/subscriptions',\n",
       " 'organizations_url': 'https://api.github.com/users/machadoah/orgs',\n",
       " 'repos_url': 'https://api.github.com/users/machadoah/repos',\n",
       " 'events_url': 'https://api.github.com/users/machadoah/events{/privacy}',\n",
       " 'received_events_url': 'https://api.github.com/users/machadoah/received_events',\n",
       " 'type': 'User',\n",
       " 'site_admin': False,\n",
       " 'name': 'Antonio Henrique Machado',\n",
       " 'company': 'Gupy',\n",
       " 'blog': 'https://machadoah.vercel.app',\n",
       " 'location': 'Peruíbe/SP',\n",
       " 'email': None,\n",
       " 'hireable': None,\n",
       " 'bio': 'Software Engineer Intern at @gupy-io',\n",
       " 'twitter_username': 'machadoah',\n",
       " 'public_repos': 63,\n",
       " 'public_gists': 0,\n",
       " 'followers': 25,\n",
       " 'following': 64,\n",
       " 'created_at': '2021-12-26T22:27:01Z',\n",
       " 'updated_at': '2024-02-28T14:56:34Z'}"
      ]
     },
     "execution_count": 6,
     "metadata": {},
     "output_type": "execute_result"
    }
   ],
   "source": [
    "request.json()"
   ]
  },
  {
   "cell_type": "markdown",
   "metadata": {},
   "source": [
    "**C) URL da requisição feita, para garantir que a url utilizada na requisição foi a correta.**"
   ]
  },
  {
   "cell_type": "code",
   "execution_count": 7,
   "metadata": {},
   "outputs": [
    {
     "data": {
      "text/plain": [
       "'https://api.github.com/users/machadoah'"
      ]
     },
     "execution_count": 7,
     "metadata": {},
     "output_type": "execute_result"
    }
   ],
   "source": [
    "request.url"
   ]
  },
  {
   "cell_type": "markdown",
   "metadata": {},
   "source": [
    "Após conferir isso, analise novamente o conteúdo retornado pela requisição e imprima na tela apenas as seguintes informações sobre a pessoa usuária em questão:\n"
   ]
  },
  {
   "cell_type": "markdown",
   "metadata": {},
   "source": [
    "A) Nome\n"
   ]
  },
  {
   "cell_type": "code",
   "execution_count": 9,
   "metadata": {},
   "outputs": [
    {
     "data": {
      "text/plain": [
       "'Antonio Henrique Machado'"
      ]
     },
     "execution_count": 9,
     "metadata": {},
     "output_type": "execute_result"
    }
   ],
   "source": [
    "request.json()['name']"
   ]
  },
  {
   "cell_type": "markdown",
   "metadata": {},
   "source": [
    "B) Nome de usuário\n"
   ]
  },
  {
   "cell_type": "code",
   "execution_count": 11,
   "metadata": {},
   "outputs": [
    {
     "data": {
      "text/plain": [
       "'machadoah'"
      ]
     },
     "execution_count": 11,
     "metadata": {},
     "output_type": "execute_result"
    }
   ],
   "source": [
    "request.json()['login']"
   ]
  },
  {
   "cell_type": "markdown",
   "metadata": {},
   "source": [
    "C) Número de repositórios públicos\n"
   ]
  },
  {
   "cell_type": "code",
   "execution_count": 12,
   "metadata": {},
   "outputs": [
    {
     "data": {
      "text/plain": [
       "63"
      ]
     },
     "execution_count": 12,
     "metadata": {},
     "output_type": "execute_result"
    }
   ],
   "source": [
    "request.json()['public_repos']"
   ]
  },
  {
   "cell_type": "markdown",
   "metadata": {},
   "source": [
    "D) Data de criação da conta no GitHub"
   ]
  },
  {
   "cell_type": "code",
   "execution_count": 13,
   "metadata": {},
   "outputs": [
    {
     "data": {
      "text/plain": [
       "'2021-12-26T22:27:01Z'"
      ]
     },
     "execution_count": 13,
     "metadata": {},
     "output_type": "execute_result"
    }
   ],
   "source": [
    "request.json()['created_at']"
   ]
  }
 ],
 "metadata": {
  "kernelspec": {
   "display_name": "Python 3",
   "language": "python",
   "name": "python3"
  },
  "language_info": {
   "codemirror_mode": {
    "name": "ipython",
    "version": 3
   },
   "file_extension": ".py",
   "mimetype": "text/x-python",
   "name": "python",
   "nbconvert_exporter": "python",
   "pygments_lexer": "ipython3",
   "version": "3.10.13"
  }
 },
 "nbformat": 4,
 "nbformat_minor": 2
}
